{
 "cells": [
  {
   "cell_type": "raw",
   "id": "661d9448-18c6-44a2-81d8-475b57737196",
   "metadata": {},
   "source": [
    "for num in range(0,10)\n",
    "print(num)"
   ]
  },
  {
   "cell_type": "code",
   "execution_count": 5,
   "id": "7210e48e-22d7-48dc-b57b-06a718fda8c8",
   "metadata": {},
   "outputs": [
    {
     "name": "stdout",
     "output_type": "stream",
     "text": [
      "0\n",
      "1\n",
      "2\n",
      "3\n",
      "4\n",
      "5\n",
      "6\n",
      "7\n",
      "8\n",
      "9\n",
      "10\n",
      "11\n",
      "12\n",
      "13\n",
      "14\n",
      "15\n",
      "16\n",
      "17\n",
      "18\n",
      "19\n"
     ]
    }
   ],
   "source": [
    "for num in range(0,20):\n",
    "      print(num)"
   ]
  },
  {
   "cell_type": "code",
   "execution_count": 1,
   "id": "e0cc1adb-4577-40bb-b3d1-1a5bf7037024",
   "metadata": {},
   "outputs": [
    {
     "name": "stdout",
     "output_type": "stream",
     "text": [
      "10 11 12 13 14 15 16 17 18 19 "
     ]
    }
   ],
   "source": [
    "for num in range(10, 20):\n",
    "    print(num, end=\" \")"
   ]
  },
  {
   "cell_type": "code",
   "execution_count": 2,
   "id": "82da0e3a-3749-4f11-ae55-6eb488ad328a",
   "metadata": {},
   "outputs": [
    {
     "name": "stdout",
     "output_type": "stream",
     "text": [
      "[10, 20, 14, 55, 43, 87, 76]\n",
      "Number of item in the List2: \n",
      "7\n"
     ]
    }
   ],
   "source": [
    "List=[10,20,14,55,43,87,76]\n",
    "print(List)\n",
    "print(\"Number of item in the List2: \")\n",
    "print(len(List))"
   ]
  },
  {
   "cell_type": "code",
   "execution_count": 4,
   "id": "014daaa4-3b79-403d-9113-3125bdb4d81d",
   "metadata": {},
   "outputs": [
    {
     "name": "stdout",
     "output_type": "stream",
     "text": [
      "AIRTIFICIAL INTELLIGENCE\n",
      "A\n",
      "I\n",
      "R\n",
      "T\n",
      "I\n",
      "F\n",
      "I\n",
      "C\n",
      "I\n",
      "A\n",
      "L\n",
      " \n",
      "I\n",
      "N\n",
      "T\n",
      "E\n",
      "L\n",
      "L\n",
      "I\n",
      "G\n",
      "E\n",
      "N\n",
      "C\n",
      "E\n"
     ]
    }
   ],
   "source": [
    "letter=\"AIRTIFICIAL INTELLIGENCE\"\n",
    "print(\"AIRTIFICIAL INTELLIGENCE\")\n",
    "for string in letter:\n",
    "    print(string)"
   ]
  },
  {
   "cell_type": "code",
   "execution_count": 6,
   "id": "0c21c23a-b95d-481d-abe9-874a7b6bac6a",
   "metadata": {},
   "outputs": [
    {
     "name": "stdout",
     "output_type": "stream",
     "text": [
      "-your Name\n",
      "-Your Age-\n",
      "-Your Profession-\n"
     ]
    }
   ],
   "source": [
    "list=[\"-your Name\",\"-Your Age-\",\"-Your Profession-\"]\n",
    "for word in list:\n",
    "    print(word)"
   ]
  },
  {
   "cell_type": "code",
   "execution_count": 7,
   "id": "c65f0114-2c50-4840-9be1-8c2af10f7679",
   "metadata": {},
   "outputs": [
    {
     "name": "stdout",
     "output_type": "stream",
     "text": [
      "[1, 'Welcome', 2, 'Hope']\n"
     ]
    }
   ],
   "source": [
    "word = [1, 'Welcome', 2, 'Hope']\n",
    "print(word)"
   ]
  },
  {
   "cell_type": "code",
   "execution_count": 8,
   "id": "3abfefff-6fc3-428b-81b2-ffadaa4ccae2",
   "metadata": {},
   "outputs": [
    {
     "name": "stdout",
     "output_type": "stream",
     "text": [
      "((0, 1, 2, 3), ('python', 'Hope'))\n"
     ]
    }
   ],
   "source": [
    "Tuple1 = (0,1,2,3)\n",
    "Tuple2 = ('python', 'Hope')\n",
    "Tuple3 = Tuple1, Tuple2\n",
    "print(Tuple3)"
   ]
  },
  {
   "cell_type": "code",
   "execution_count": 9,
   "id": "79ceb943-11ed-4b03-90cf-87d98e8491ea",
   "metadata": {},
   "outputs": [
    {
     "name": "stdout",
     "output_type": "stream",
     "text": [
      "[20, 10, 16, 19, 25, 1, 276, 188]\n",
      "19 is odd\n",
      "25 is odd\n",
      "1 is odd\n"
     ]
    }
   ],
   "source": [
    "num = [20,10,16,19,25,1,276,188]\n",
    "print(num)\n",
    "for i in num:\n",
    "    if i%2 == 1:\n",
    "        print(i, \"is odd\")  "
   ]
  },
  {
   "cell_type": "code",
   "execution_count": 11,
   "id": "8219ddc5-aee1-41bd-9f67-d02c8cc1448d",
   "metadata": {},
   "outputs": [
    {
     "name": "stdout",
     "output_type": "stream",
     "text": [
      "[20, 10, 16, 19, 25, 1, 188, 276]\n",
      "20 is even\n",
      "10 is even\n",
      "16 is even\n",
      "188 is even\n",
      "276 is even\n"
     ]
    }
   ],
   "source": [
    "num=[20,10,16,19,25,1,188,276]\n",
    "print(num)\n",
    "for i in num:\n",
    "    if i%2 == 0:\n",
    "        print(i, \"is even\")"
   ]
  },
  {
   "cell_type": "code",
   "execution_count": null,
   "id": "ab69c326-0aea-4f7b-af5a-2005cf6f600a",
   "metadata": {},
   "outputs": [],
   "source": []
  }
 ],
 "metadata": {
  "kernelspec": {
   "display_name": "Python 3 (ipykernel)",
   "language": "python",
   "name": "python3"
  },
  "language_info": {
   "codemirror_mode": {
    "name": "ipython",
    "version": 3
   },
   "file_extension": ".py",
   "mimetype": "text/x-python",
   "name": "python",
   "nbconvert_exporter": "python",
   "pygments_lexer": "ipython3",
   "version": "3.13.5"
  }
 },
 "nbformat": 4,
 "nbformat_minor": 5
}
