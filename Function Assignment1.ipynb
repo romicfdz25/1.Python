{
 "cells": [
  {
   "cell_type": "code",
   "execution_count": 1,
   "id": "342e47db-036a-4c5c-897e-7f40b66c62ae",
   "metadata": {},
   "outputs": [],
   "source": [
    "class Subfields():\n",
    "    def Subfields():\n",
    "        print(\"Subfields in AI are: \")\n",
    "        Lists=['Machine Learning','Neural Networks','Vision','Robotics','Speech Processing','Natural Language Processing']\n",
    "        for word in Lists:\n",
    "            print(word)"
   ]
  },
  {
   "cell_type": "code",
   "execution_count": 2,
   "id": "eb4340ff-8ed7-4bc5-a276-d9589abf9038",
   "metadata": {},
   "outputs": [
    {
     "name": "stdout",
     "output_type": "stream",
     "text": [
      "Subfields in AI are: \n",
      "Machine Learning\n",
      "Neural Networks\n",
      "Vision\n",
      "Robotics\n",
      "Speech Processing\n",
      "Natural Language Processing\n"
     ]
    }
   ],
   "source": [
    "Subfields.Subfields()"
   ]
  },
  {
   "cell_type": "code",
   "execution_count": 3,
   "id": "09958451-9438-4b09-9566-fb3c89a51348",
   "metadata": {},
   "outputs": [],
   "source": [
    "class OddEven():\n",
    "    def OddEven():\n",
    "        num=int(input(\"Enter the number: \"))\n",
    "        if(num/2==0):\n",
    "            print(\"Enter a number is: \",num)\n",
    "            value=(num ,\"is Even Number\")\n",
    "        else:\n",
    "            print(\"Enter a number is: \", num)\n",
    "            value=(num ,\"is Odd Number\")\n",
    "        return value\n",
    "        "
   ]
  },
  {
   "cell_type": "code",
   "execution_count": 4,
   "id": "e9c2eede-cd62-46b9-bb7b-ddc6a11bd751",
   "metadata": {},
   "outputs": [
    {
     "name": "stdin",
     "output_type": "stream",
     "text": [
      "Enter the number:  3456\n"
     ]
    },
    {
     "name": "stdout",
     "output_type": "stream",
     "text": [
      "Enter a number is:  3456\n"
     ]
    },
    {
     "data": {
      "text/plain": [
       "(3456, 'is Odd Number')"
      ]
     },
     "execution_count": 4,
     "metadata": {},
     "output_type": "execute_result"
    }
   ],
   "source": [
    "OddEven.OddEven()"
   ]
  },
  {
   "cell_type": "code",
   "execution_count": 5,
   "id": "53483687-6b00-4fdf-babf-09aeda0b8568",
   "metadata": {},
   "outputs": [],
   "source": [
    "class ElegiblityForMarriage():\n",
    "    def Elegible():\n",
    "        gender=input(\"Your Gender:\")\n",
    "        print(\"your Gender is :\", gender)\n",
    "        age=int(input(\"Your Age:\"))\n",
    "        print(\"Your Age is :\", age)\n",
    "        if(gender=='Male'):\n",
    "            if(age >=21):\n",
    "                print('ELIGIBLE')\n",
    "            else:\n",
    "                print('NOT ELIGIBLE')\n",
    "        elif(gender=='Female'):\n",
    "            if(age >18):\n",
    "                print('ELIGIBLE')\n",
    "            else:\n",
    "                print('NOT ELIGIBLE')\n",
    "        else:\n",
    "            print('INVALID INPUT DATA')"
   ]
  },
  {
   "cell_type": "code",
   "execution_count": 14,
   "id": "45e710b8-7498-4877-b4ca-e766d7889e67",
   "metadata": {},
   "outputs": [
    {
     "name": "stdin",
     "output_type": "stream",
     "text": [
      "Your Gender: Male\n"
     ]
    },
    {
     "name": "stdout",
     "output_type": "stream",
     "text": [
      "your Gender is : Male\n"
     ]
    },
    {
     "name": "stdin",
     "output_type": "stream",
     "text": [
      "Your Age: 27\n"
     ]
    },
    {
     "name": "stdout",
     "output_type": "stream",
     "text": [
      "Your Age is : 27\n",
      "ELIGIBLE\n"
     ]
    }
   ],
   "source": [
    " ElegiblityForMarriage.Elegible()"
   ]
  },
  {
   "cell_type": "code",
   "execution_count": 15,
   "id": "fdf33d8b-bc48-4554-9a66-5c1e9ff928df",
   "metadata": {},
   "outputs": [],
   "source": [
    "class Percent():\n",
    "    def percentage():\n",
    "        m1=int(input())\n",
    "        print(\"Subject1= \",m1)\n",
    "        m2=int(input())\n",
    "        print(\"Subject2= \",m2)\n",
    "        m3=int(input())\n",
    "        print(\"Subject3= \",m3)\n",
    "        m4=int(input())\n",
    "        print(\"Subject4= \",m4)\n",
    "        m5=int(input())\n",
    "        print(\"Subject5= \",m5)\n",
    "        Total = m1+m2+m3+m4+m5\n",
    "        print(\"Total=\",Total)\n",
    "        Percent = (Total / 500) * 100\n",
    "        print(\"Percentage=\",Percent)"
   ]
  },
  {
   "cell_type": "code",
   "execution_count": 16,
   "id": "a9df0965-8309-4e53-a85b-a015c78064eb",
   "metadata": {},
   "outputs": [
    {
     "name": "stdin",
     "output_type": "stream",
     "text": [
      " 88\n"
     ]
    },
    {
     "name": "stdout",
     "output_type": "stream",
     "text": [
      "Subject1=  88\n"
     ]
    },
    {
     "name": "stdin",
     "output_type": "stream",
     "text": [
      " 90\n"
     ]
    },
    {
     "name": "stdout",
     "output_type": "stream",
     "text": [
      "Subject2=  90\n"
     ]
    },
    {
     "name": "stdin",
     "output_type": "stream",
     "text": [
      " 56\n"
     ]
    },
    {
     "name": "stdout",
     "output_type": "stream",
     "text": [
      "Subject3=  56\n"
     ]
    },
    {
     "name": "stdin",
     "output_type": "stream",
     "text": [
      " 88\n"
     ]
    },
    {
     "name": "stdout",
     "output_type": "stream",
     "text": [
      "Subject4=  88\n"
     ]
    },
    {
     "name": "stdin",
     "output_type": "stream",
     "text": [
      " 45\n"
     ]
    },
    {
     "name": "stdout",
     "output_type": "stream",
     "text": [
      "Subject5=  45\n",
      "Total= 367\n",
      "Percentage= 73.4\n"
     ]
    }
   ],
   "source": [
    "Percent.percentage()"
   ]
  },
  {
   "cell_type": "code",
   "execution_count": 17,
   "id": "ca9dda20-6fb6-46d8-b0ee-afcccb530b54",
   "metadata": {},
   "outputs": [],
   "source": [
    "class triangle():\n",
    "    def triangle():\n",
    "        Height=int(input(\"Height:\"))\n",
    "        print(\"Height:\", Height)\n",
    "        breadth=int(input(\"Breadth:\"))\n",
    "        print(\"Breadth:\",breadth)\n",
    "        print(\"Area formula: (Height*Breadth)/2\")\n",
    "        print(\"Area of Triangle: \"\n",
    "        ,(Height*breadth)/2)\n",
    "        Height1=int(input(\"Height1:\"))\n",
    "        print(\"Height1:\",Height1)\n",
    "        Height2=int(input(\"Height2:\"))\n",
    "        print(\"Height2:\",Height2)\n",
    "        breadth=int(input(\"Breadth:\"))\n",
    "        print(\"breadth:\",breadth)\n",
    "        print(\"Perimeter formula: Height1+Height2+Breadth\")\n",
    "        print(\"Perimeter of Triangle: \"\n",
    "        ,Height1+Height2+breadth)"
   ]
  },
  {
   "cell_type": "code",
   "execution_count": 18,
   "id": "00375a3b-c7a8-4e8e-b9f7-b63461615c77",
   "metadata": {},
   "outputs": [
    {
     "name": "stdin",
     "output_type": "stream",
     "text": [
      "Height: 4\n"
     ]
    },
    {
     "name": "stdout",
     "output_type": "stream",
     "text": [
      "Height: 4\n"
     ]
    },
    {
     "name": "stdin",
     "output_type": "stream",
     "text": [
      "Breadth: 3\n"
     ]
    },
    {
     "name": "stdout",
     "output_type": "stream",
     "text": [
      "Breadth: 3\n",
      "Area formula: (Height*Breadth)/2\n",
      "Area of Triangle:  6.0\n"
     ]
    },
    {
     "name": "stdin",
     "output_type": "stream",
     "text": [
      "Height1: 4\n"
     ]
    },
    {
     "name": "stdout",
     "output_type": "stream",
     "text": [
      "Height1: 4\n"
     ]
    },
    {
     "name": "stdin",
     "output_type": "stream",
     "text": [
      "Height2: 3\n"
     ]
    },
    {
     "name": "stdout",
     "output_type": "stream",
     "text": [
      "Height2: 3\n"
     ]
    },
    {
     "name": "stdin",
     "output_type": "stream",
     "text": [
      "Breadth: 7\n"
     ]
    },
    {
     "name": "stdout",
     "output_type": "stream",
     "text": [
      "breadth: 7\n",
      "Perimeter formula: Height1+Height2+Breadth\n",
      "Perimeter of Triangle:  14\n"
     ]
    }
   ],
   "source": [
    "triangle.triangle()"
   ]
  },
  {
   "cell_type": "code",
   "execution_count": null,
   "id": "847965e4-5d37-441a-b9c8-f2c6feba3abd",
   "metadata": {},
   "outputs": [],
   "source": []
  }
 ],
 "metadata": {
  "kernelspec": {
   "display_name": "Python 3 (ipykernel)",
   "language": "python",
   "name": "python3"
  },
  "language_info": {
   "codemirror_mode": {
    "name": "ipython",
    "version": 3
   },
   "file_extension": ".py",
   "mimetype": "text/x-python",
   "name": "python",
   "nbconvert_exporter": "python",
   "pygments_lexer": "ipython3",
   "version": "3.13.5"
  }
 },
 "nbformat": 4,
 "nbformat_minor": 5
}
